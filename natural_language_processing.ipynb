{
  "nbformat": 4,
  "nbformat_minor": 0,
  "metadata": {
    "colab": {
      "name": "Natural Language Processing",
      "provenance": []
    },
    "kernelspec": {
      "name": "python3",
      "display_name": "Python 3"
    },
    "accelerator": "GPU"
  },
  "cells": [
    {
      "cell_type": "markdown",
      "metadata": {
        "id": "ui-eFEv-NPS6",
        "colab_type": "text"
      },
      "source": [
        "# Natural Language Processing"
      ]
    },
    {
      "cell_type": "code",
      "metadata": {
        "id": "WCKd1knCGthW",
        "colab_type": "code",
        "colab": {
          "base_uri": "https://localhost:8080/",
          "height": 127
        },
        "outputId": "f34b4ef4-6af6-4f36-ce2c-fd787dbaae6d"
      },
      "source": [
        "%tensorflow_version 2.x  # this line is not required unless you are in a notebook\n",
        "from keras.datasets import imdb\n",
        "from keras.preprocessing import sequence\n",
        "import keras\n",
        "import tensorflow as tf\n",
        "import os\n",
        "import numpy as np"
      ],
      "execution_count": 2,
      "outputs": [
        {
          "output_type": "stream",
          "text": [
            "`%tensorflow_version` only switches the major version: 1.x or 2.x.\n",
            "You set: `2.x  # this line is not required unless you are in a notebook`. This will be interpreted as: `2.x`.\n",
            "\n",
            "\n",
            "TensorFlow 2.x selected.\n"
          ],
          "name": "stdout"
        },
        {
          "output_type": "stream",
          "text": [
            "Using TensorFlow backend.\n"
          ],
          "name": "stderr"
        }
      ]
    },
    {
      "cell_type": "code",
      "metadata": {
        "id": "tNd9R2QgGvM1",
        "colab_type": "code",
        "colab": {
          "base_uri": "https://localhost:8080/",
          "height": 54
        },
        "outputId": "034491a5-1b1a-48b8-d703-6d56654ba62c"
      },
      "source": [
        "VOCAB_SIZE = 88584\n",
        "\n",
        "MAXLEN = 250\n",
        "BATCH_SIZE = 64\n",
        "\n",
        "(train_data, train_labels), (test_data, test_labels) = imdb.load_data(num_words = VOCAB_SIZE)"
      ],
      "execution_count": 3,
      "outputs": [
        {
          "output_type": "stream",
          "text": [
            "Downloading data from https://s3.amazonaws.com/text-datasets/imdb.npz\n",
            "17465344/17464789 [==============================] - 0s 0us/step\n"
          ],
          "name": "stdout"
        }
      ]
    },
    {
      "cell_type": "code",
      "metadata": {
        "id": "86AUsJXbG4Tz",
        "colab_type": "code",
        "colab": {
          "base_uri": "https://localhost:8080/",
          "height": 35
        },
        "outputId": "55a948ea-32d0-468b-8339-c2336925ae00"
      },
      "source": [
        "len(train_data[1])"
      ],
      "execution_count": 4,
      "outputs": [
        {
          "output_type": "execute_result",
          "data": {
            "text/plain": [
              "189"
            ]
          },
          "metadata": {
            "tags": []
          },
          "execution_count": 4
        }
      ]
    },
    {
      "cell_type": "markdown",
      "metadata": {
        "id": "28ZBL46BH8mn",
        "colab_type": "text"
      },
      "source": [
        "Pad data to have equal data units"
      ]
    },
    {
      "cell_type": "code",
      "metadata": {
        "id": "d9DKUcmsICG6",
        "colab_type": "code",
        "colab": {}
      },
      "source": [
        "train_data = sequence.pad_sequences(train_data, MAXLEN)\n",
        "test_data = sequence.pad_sequences(test_data, MAXLEN)"
      ],
      "execution_count": 0,
      "outputs": []
    },
    {
      "cell_type": "code",
      "metadata": {
        "id": "FIUTeTRcICxp",
        "colab_type": "code",
        "colab": {
          "base_uri": "https://localhost:8080/",
          "height": 274
        },
        "outputId": "35795a47-d71c-49d6-9b82-70984c95fed5"
      },
      "source": [
        "model = tf.keras.Sequential([\n",
        "    tf.keras.layers.Embedding(VOCAB_SIZE, 32),\n",
        "    tf.keras.layers.LSTM(32),\n",
        "    tf.keras.layers.Dense(1, activation=\"sigmoid\")\n",
        "])\n",
        "\n",
        "model.summary()"
      ],
      "execution_count": 6,
      "outputs": [
        {
          "output_type": "stream",
          "text": [
            "Model: \"sequential\"\n",
            "_________________________________________________________________\n",
            "Layer (type)                 Output Shape              Param #   \n",
            "=================================================================\n",
            "embedding (Embedding)        (None, None, 32)          2834688   \n",
            "_________________________________________________________________\n",
            "lstm (LSTM)                  (None, 32)                8320      \n",
            "_________________________________________________________________\n",
            "dense (Dense)                (None, 1)                 33        \n",
            "=================================================================\n",
            "Total params: 2,843,041\n",
            "Trainable params: 2,843,041\n",
            "Non-trainable params: 0\n",
            "_________________________________________________________________\n"
          ],
          "name": "stdout"
        }
      ]
    },
    {
      "cell_type": "markdown",
      "metadata": {
        "id": "KHQWrp9CKS16",
        "colab_type": "text"
      },
      "source": [
        "## Training"
      ]
    },
    {
      "cell_type": "code",
      "metadata": {
        "id": "sIAZ9eTDIXBh",
        "colab_type": "code",
        "colab": {
          "base_uri": "https://localhost:8080/",
          "height": 403
        },
        "outputId": "d4d0c2ba-946b-4243-f585-0f3fa7d9a788"
      },
      "source": [
        "model.compile(loss=\"binary_crossentropy\",optimizer=\"rmsprop\",metrics=['acc'])\n",
        "\n",
        "history = model.fit(train_data, train_labels, epochs=10, validation_split=0.2)"
      ],
      "execution_count": 7,
      "outputs": [
        {
          "output_type": "stream",
          "text": [
            "Train on 20000 samples, validate on 5000 samples\n",
            "Epoch 1/10\n",
            "20000/20000 [==============================] - 23s 1ms/sample - loss: 0.4215 - acc: 0.8070 - val_loss: 0.3252 - val_acc: 0.8648\n",
            "Epoch 2/10\n",
            "20000/20000 [==============================] - 16s 798us/sample - loss: 0.2402 - acc: 0.9099 - val_loss: 0.2849 - val_acc: 0.8888\n",
            "Epoch 3/10\n",
            "20000/20000 [==============================] - 15s 753us/sample - loss: 0.1871 - acc: 0.9315 - val_loss: 0.2673 - val_acc: 0.8930\n",
            "Epoch 4/10\n",
            "20000/20000 [==============================] - 15s 745us/sample - loss: 0.1504 - acc: 0.9460 - val_loss: 0.3075 - val_acc: 0.8744\n",
            "Epoch 5/10\n",
            "20000/20000 [==============================] - 16s 787us/sample - loss: 0.1310 - acc: 0.9552 - val_loss: 0.3279 - val_acc: 0.8678\n",
            "Epoch 6/10\n",
            "20000/20000 [==============================] - 15s 745us/sample - loss: 0.1119 - acc: 0.9617 - val_loss: 0.3535 - val_acc: 0.8852\n",
            "Epoch 7/10\n",
            "20000/20000 [==============================] - 15s 759us/sample - loss: 0.0964 - acc: 0.9673 - val_loss: 0.3934 - val_acc: 0.8808\n",
            "Epoch 8/10\n",
            "20000/20000 [==============================] - 15s 768us/sample - loss: 0.0875 - acc: 0.9705 - val_loss: 0.3411 - val_acc: 0.8846\n",
            "Epoch 9/10\n",
            "20000/20000 [==============================] - 15s 747us/sample - loss: 0.0751 - acc: 0.9761 - val_loss: 0.4100 - val_acc: 0.8772\n",
            "Epoch 10/10\n",
            "20000/20000 [==============================] - 15s 745us/sample - loss: 0.0666 - acc: 0.9780 - val_loss: 0.3719 - val_acc: 0.8786\n"
          ],
          "name": "stdout"
        }
      ]
    },
    {
      "cell_type": "code",
      "metadata": {
        "id": "buWbHESRI8Ye",
        "colab_type": "code",
        "colab": {
          "base_uri": "https://localhost:8080/",
          "height": 35
        },
        "outputId": "eebde202-990d-4bae-ae47-d56284f29206"
      },
      "source": [
        "results = model.evaluate(test_data, test_labels)"
      ],
      "execution_count": 8,
      "outputs": [
        {
          "output_type": "stream",
          "text": [
            "25000/25000 [==============================] - 4s 176us/sample - loss: 0.4337 - acc: 0.8590\n"
          ],
          "name": "stdout"
        }
      ]
    },
    {
      "cell_type": "markdown",
      "metadata": {
        "id": "VoyqaJE6KW6s",
        "colab_type": "text"
      },
      "source": [
        "## Prediction"
      ]
    },
    {
      "cell_type": "code",
      "metadata": {
        "id": "fUE1aXn_KHe0",
        "colab_type": "code",
        "colab": {}
      },
      "source": [
        "word_index = imdb.get_word_index()\n",
        "\n",
        "def encode_text(text):\n",
        "  tokens = keras.preprocessing.text.text_to_word_sequence(text)\n",
        "  tokens = [word_index[word] if word in word_index else 0 for word in tokens]\n",
        "  return sequence.pad_sequences([tokens], MAXLEN)[0]\n",
        "\n",
        "\n",
        "def predict(text):\n",
        "  encoded_text = encode_text(text)\n",
        "  pred = np.zeros((1,250))\n",
        "  pred[0] = encoded_text\n",
        "  result = model.predict(pred) \n",
        "  print(\"Positive\" if result[0][0] > 0.5 else \"Negative\")"
      ],
      "execution_count": 0,
      "outputs": []
    },
    {
      "cell_type": "code",
      "metadata": {
        "id": "m5ODckzRMqG1",
        "colab_type": "code",
        "colab": {
          "base_uri": "https://localhost:8080/",
          "height": 54
        },
        "outputId": "8491ee84-d967-40dc-ed2c-3855540f0b82"
      },
      "source": [
        "positive_review = \"That movie was! really loved it and would great watch it again because it was amazingly great\"\n",
        "predict(positive_review)\n",
        "\n",
        "negative_review = \"that movie really sucked. I hated it and wouldn't watch it again. Was one of the worst things I've ever watched\"\n",
        "predict(negative_review)"
      ],
      "execution_count": 13,
      "outputs": [
        {
          "output_type": "stream",
          "text": [
            "Positive\n",
            "Negative\n"
          ],
          "name": "stdout"
        }
      ]
    }
  ]
}