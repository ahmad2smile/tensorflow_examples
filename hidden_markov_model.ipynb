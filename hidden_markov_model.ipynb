{
  "nbformat": 4,
  "nbformat_minor": 0,
  "metadata": {
    "colab": {
      "name": "hidden_markov_model.ipynb",
      "provenance": [],
      "collapsed_sections": []
    },
    "kernelspec": {
      "name": "python3",
      "display_name": "Python 3"
    }
  },
  "cells": [
    {
      "cell_type": "markdown",
      "metadata": {
        "id": "85ZoVbDYxlP_",
        "colab_type": "text"
      },
      "source": [
        "# Hidden Markov Models"
      ]
    },
    {
      "cell_type": "code",
      "metadata": {
        "id": "XGJXty4cxZb5",
        "colab_type": "code",
        "colab": {
          "base_uri": "https://localhost:8080/",
          "height": 34
        },
        "outputId": "400b9d0d-4260-45aa-e1f4-840f725a0350"
      },
      "source": [
        "%tensorflow_version 2.x"
      ],
      "execution_count": 1,
      "outputs": [
        {
          "output_type": "stream",
          "text": [
            "TensorFlow 2.x selected.\n"
          ],
          "name": "stdout"
        }
      ]
    },
    {
      "cell_type": "code",
      "metadata": {
        "id": "rRH9cV6w1SEc",
        "colab_type": "code",
        "colab": {
          "base_uri": "https://localhost:8080/",
          "height": 173
        },
        "outputId": "f2e987fc-720c-4d8e-fb3a-7bd426df5cae"
      },
      "source": [
        "!pip install tensorflow_probability==0.7.0 --user --upgrade"
      ],
      "execution_count": 2,
      "outputs": [
        {
          "output_type": "stream",
          "text": [
            "Collecting tensorflow_probability==0.7.0\n",
            "  Using cached https://files.pythonhosted.org/packages/3e/3a/c10b6c22320531c774402ac7186d1b673374e2a9d12502cbc8d811e4601c/tensorflow_probability-0.7.0-py2.py3-none-any.whl\n",
            "Requirement already satisfied, skipping upgrade: six>=1.10.0 in /tensorflow-2.1.0/python3.6 (from tensorflow_probability==0.7.0) (1.14.0)\n",
            "Requirement already satisfied, skipping upgrade: cloudpickle>=0.6.1 in /root/.local/lib/python3.6/site-packages (from tensorflow_probability==0.7.0) (1.3.0)\n",
            "Requirement already satisfied, skipping upgrade: numpy>=1.13.3 in /tensorflow-2.1.0/python3.6 (from tensorflow_probability==0.7.0) (1.18.1)\n",
            "Requirement already satisfied, skipping upgrade: decorator in /usr/local/lib/python3.6/dist-packages (from tensorflow_probability==0.7.0) (4.4.1)\n",
            "Installing collected packages: tensorflow-probability\n",
            "Successfully installed tensorflow-probability-0.8.0rc0\n"
          ],
          "name": "stdout"
        }
      ]
    },
    {
      "cell_type": "code",
      "metadata": {
        "id": "SWo-y75h1XEG",
        "colab_type": "code",
        "colab": {}
      },
      "source": [
        "import tensorflow_probability as tfp  # We are using a different module from tensorflow this time\n",
        "import tensorflow as tf"
      ],
      "execution_count": 0,
      "outputs": []
    },
    {
      "cell_type": "code",
      "metadata": {
        "id": "UMvVRyEY1Zk6",
        "colab_type": "code",
        "colab": {}
      },
      "source": [
        "tfd = tfp.distributions\n",
        "# Weather Data Modelig\n",
        "\n",
        "# Starting with A Cold Day\n",
        "initial_distribution = tfd.Categorical(probs=[0.8, 0.2]) #The first day in our sequence has an 80% chance of being cold and 20% warm\n",
        "\n",
        "# cold day has a 30% chance of being followed by a hot day\n",
        "# hot day has a 20% chance of being followed by a cold day\n",
        "transition_distribution = tfd.Categorical(probs=[[0.7, 0.3], [0.2, 0.8]])\n",
        "\n",
        "observation_distribution = tfd.Normal(loc=[0., 15.], scale=[5., 10.])\n"
      ],
      "execution_count": 0,
      "outputs": []
    },
    {
      "cell_type": "markdown",
      "metadata": {
        "id": "ETCleYJh5oiH",
        "colab_type": "text"
      },
      "source": [
        "## Train\n"
      ]
    },
    {
      "cell_type": "code",
      "metadata": {
        "id": "fmaBg--O5nCe",
        "colab_type": "code",
        "colab": {}
      },
      "source": [
        "model = tfd.HiddenMarkovModel(\n",
        "    initial_distribution=initial_distribution,\n",
        "    transition_distribution=transition_distribution,\n",
        "    observation_distribution=observation_distribution,\n",
        "    num_steps=7)"
      ],
      "execution_count": 0,
      "outputs": []
    },
    {
      "cell_type": "markdown",
      "metadata": {
        "id": "KF8gpOh26mVz",
        "colab_type": "text"
      },
      "source": [
        "## Predict\n"
      ]
    },
    {
      "cell_type": "code",
      "metadata": {
        "id": "SjuN3g0K6pfu",
        "colab_type": "code",
        "colab": {
          "base_uri": "https://localhost:8080/",
          "height": 34
        },
        "outputId": "0d37eb79-b4fa-43ba-923d-ed42b73ad84f"
      },
      "source": [
        "mean = model.mean()\n",
        "\n",
        "# to get values out of this 'mean' tensor\n",
        "\n",
        "with tf.compat.v1.Session() as session:\n",
        "    print(mean.numpy())"
      ],
      "execution_count": 20,
      "outputs": [
        {
          "output_type": "stream",
          "text": [
            "[2.9999998 5.9999995 7.4999995 8.25      8.625001  8.812501  8.90625  ]\n"
          ],
          "name": "stdout"
        }
      ]
    }
  ]
}